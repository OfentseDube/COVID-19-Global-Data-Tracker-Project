{
 "cells": [
  {
   "cell_type": "code",
   "execution_count": 2,
   "id": "4e200232-bc6f-4738-8017-8e1c38fb4e89",
   "metadata": {},
   "outputs": [
    {
     "data": {
      "application/vnd.plotly.v1+json": {
       "config": {
        "plotlyServerURL": "https://plot.ly"
       },
       "data": [
        {
         "coloraxis": "coloraxis",
         "customdata": [
          [
           994037,
           7118
          ],
          [
           99375079,
           122309
          ],
          [
           98041,
           413
          ],
          [
           977765,
           7475
          ],
          [
           9674,
           124
          ],
          [
           9614,
           177
          ],
          [
           9518,
           315
          ],
          [
           9109,
           160
          ],
          [
           9106,
           146
          ],
          [
           89485,
           1971
          ],
          [
           89168,
           2686
          ],
          [
           88953,
           1024
          ],
          [
           88434,
           835
          ],
          [
           8640536,
           22986
          ],
          [
           841469,
           9646
          ],
          [
           8359,
           34
          ],
          [
           835838,
           10353
          ],
          [
           82501,
           1406
          ],
          [
           80163,
           314
          ],
          [
           80,
           0
          ],
          [
           7979,
           125
          ],
          [
           79404,
           650
          ],
          [
           7930,
           294
          ],
          [
           7702,
           194
          ],
          [
           7627863,
           146837
          ],
          [
           7620108,
           334586
          ],
          [
           7557,
           64
          ],
          [
           75356,
           1427
          ],
          [
           74461,
           1302
          ],
          [
           735759,
           19880
          ],
          [
           7345,
           2
          ],
          [
           71416,
           688
          ],
          [
           712,
           13
          ],
          [
           703228,
           5708
          ],
          [
           775917104,
           7058381
          ],
          [
           696614,
           1536
          ],
          [
           696410,
           1451
          ],
          [
           69047,
           885
          ],
          [
           68567,
           1428
          ],
          [
           6829491,
           162059
          ],
          [
           6805,
           40
          ],
          [
           6771,
           80
          ],
          [
           672798,
           16907
          ],
          [
           6674042,
           120734
          ],
          [
           667290,
           2570
          ],
          [
           66391,
           161
          ],
          [
           661103,
           4384
          ],
          [
           6607,
           46
          ],
          [
           64474,
           417
          ],
          [
           642902,
           19494
          ],
          [
           63993,
           5046
          ],
          [
           6392472,
           142727
          ],
          [
           638901,
           12248
          ],
          [
           63872,
           997
          ],
          [
           6372,
           10
          ],
          [
           62697,
           21
          ],
          [
           610471,
           2998
          ],
          [
           6082465,
           22534
          ],
          [
           57423,
           3163
          ],
          [
           5679215,
           39296
          ],
          [
           5665049,
           28840
          ],
          [
           5533052,
           109923
          ],
          [
           552695,
           5856
          ],
          [
           5507,
           5
          ],
          [
           54569,
           15
          ],
          [
           5401231,
           62734
          ],
          [
           5393,
           1
          ],
          [
           5309410,
           37351
          ],
          [
           52287,
           419
          ],
          [
           51886,
           172
          ],
          [
           516023,
           24830
          ],
          [
           514524,
           690
          ],
          [
           5085,
           24
          ],
          [
           507269,
           6437
          ],
          [
           501193,
           7574
          ],
          [
           5,
           0
          ],
          [
           494595,
           921
          ],
          [
           49051,
           307
          ],
          [
           4873873,
           34339
          ],
          [
           4841558,
           12707
          ],
          [
           4819055,
           55282
          ],
          [
           48015,
           159
          ],
          [
           4799699,
           34719
          ],
          [
           4762740,
           43510
          ],
          [
           472898,
           11114
          ],
          [
           46864,
           670
          ],
          [
           45883,
           305
          ],
          [
           4526977,
           220975
          ],
          [
           452273,
           8777
          ],
          [
           45042054,
           533626
          ],
          [
           4458338,
           14170
          ],
          [
           44224,
           292
          ],
          [
           43230,
           846
          ],
          [
           42027,
           187
          ],
          [
           4140383,
           66864
          ],
          [
           4072765,
           102595
          ],
          [
           403666,
           16392
          ],
          [
           4,
           0
          ],
          [
           4,
           0
          ],
          [
           399449,
           4628
          ],
          [
           39530,
           290
          ],
          [
           393730,
           1000
          ],
          [
           39127,
           849
          ],
          [
           3904,
           12
          ],
          [
           38997490,
           168091
          ],
          [
           38572,
           468
          ],
          [
           38437756,
           174979
          ],
          [
           38008,
           116
          ],
          [
           3760,
           9
          ],
          [
           37511921,
           702116
          ],
          [
           36138,
           709
          ],
          [
           3546652,
           68841
          ],
          [
           35326,
           67
          ],
          [
           351093,
           9979
          ],
          [
           349842,
           4077
          ],
          [
           347958,
           180
          ],
          [
           34658,
           28
          ],
          [
           34571873,
           35934
          ],
          [
           34456,
           860
          ],
          [
           344106,
           5689
          ],
          [
           3435679,
           9693
          ],
          [
           3426,
           2
          ],
          [
           33803572,
           74694
          ],
          [
           335047,
           3605
          ],
          [
           33166,
           743
          ],
          [
           330696,
           2801
          ],
          [
           328167,
           1073
          ],
          [
           31765,
           65
          ],
          [
           31472,
           37
          ],
          [
           30283,
           410
          ],
          [
           3006155,
           2024
          ],
          [
           2943,
           1
          ],
          [
           29,
           0
          ],
          [
           28036,
           163
          ],
          [
           2755993,
           27433
          ],
          [
           274279,
           3212
          ],
          [
           27334,
           1361
          ],
          [
           272139,
           6881
          ],
          [
           26781078,
           197307
          ],
          [
           267188,
           3155
          ],
          [
           266386,
           5740
          ],
          [
           2640529,
           4299
          ],
          [
           26,
           0
          ],
          [
           25954,
           199
          ],
          [
           2583470,
           18057
          ],
          [
           25389,
           132
          ],
          [
           25292,
           126
          ],
          [
           25227,
           389
          ],
          [
           251280,
           2654
          ],
          [
           24976777,
           232112
          ],
          [
           2465545,
           25375
          ],
          [
           24278671,
           403202
          ],
          [
           235214,
           7998
          ],
          [
           23460,
           138
          ],
          [
           233843,
           2252
          ],
          [
           230354,
           1104
          ],
          [
           2230925,
           49053
          ],
          [
           22139,
           400
          ],
          [
           219060,
           671
          ],
          [
           2166,
           0
          ],
          [
           21588,
           89
          ],
          [
           210398,
           186
          ],
          [
           20550,
           113
          ],
          [
           2051363,
           29499
          ],
          [
           203235,
           1021
          ],
          [
           201920,
           4230
          ],
          [
           2,
           0
          ],
          [
           19693,
           238
          ],
          [
           1923,
           0
          ],
          [
           191496,
           4390
          ],
          [
           18860,
           165
          ],
          [
           18823,
           147
          ],
          [
           1878101,
           21228
          ],
          [
           186694,
           316
          ],
          [
           1863615,
           17150
          ],
          [
           17786,
           125
          ],
          [
           175081,
           1016
          ],
          [
           1746997,
           14122
          ],
          [
           1745670,
           9759
          ],
          [
           172533,
           4108
          ],
          [
           172154,
           3632
          ],
          [
           172062,
           1462
          ],
          [
           17181,
           67
          ],
          [
           17130,
           183
          ],
          [
           17057,
           31
          ],
          [
           17004720,
           101419
          ],
          [
           16989,
           13
          ],
          [
           16297,
           17
          ],
          [
           16188,
           245
          ],
          [
           16047,
           74
          ],
          [
           1580631,
           30656
          ],
          [
           157203,
           3611
          ],
          [
           15690,
           189
          ],
          [
           15441,
           113
          ],
          [
           1513374,
           5732
          ],
          [
           1504370,
           19072
          ],
          [
           1499712,
           11466
          ],
          [
           14931,
           41
          ],
          [
           1403,
           8
          ],
          [
           13980340,
           121852
          ],
          [
           139320,
           3056
          ],
          [
           1370762,
           9810
          ],
          [
           1356746,
           10083
          ],
          [
           133264,
           1468
          ],
          [
           1330400,
           38701
          ],
          [
           1323608,
           18754
          ],
          [
           1279115,
           16305
          ],
          [
           12627,
           372
          ],
          [
           1252713,
           5938
          ],
          [
           125246,
           1974
          ],
          [
           1250373,
           20203
          ],
          [
           1239904,
           10947
          ],
          [
           1235145,
           9373
          ],
          [
           12324,
           46
          ],
          [
           122865,
           922
          ],
          [
           1212147,
           22387
          ],
          [
           12019,
           14
          ],
          [
           12,
           0
          ],
          [
           11971,
           21
          ],
          [
           11945,
           2159
          ],
          [
           11922,
           41
          ],
          [
           11861161,
           25236
          ],
          [
           11624000,
           43206
          ],
          [
           1153361,
           29423
          ],
          [
           1113662,
           8530
          ],
          [
           11051,
           92
          ],
          [
           108642,
           593
          ],
          [
           1077623,
           36050
          ],
          [
           107481,
           1937
          ],
          [
           1074,
           0
          ],
          [
           1067030,
           2349
          ],
          [
           1044887,
           8753
          ],
          [
           1041361,
           7682
          ],
          [
           103436829,
           1194158
          ],
          [
           10189,
           103
          ],
          [
           1011489,
           2136
          ],
          [
           10101328,
           130664
          ],
          [
           101009,
           1474
          ],
          [
           1003450,
           12031
          ],
          [
           0,
           0
          ],
          [
           0,
           0
          ]
         ],
         "geo": "geo",
         "hovertemplate": "<b>%{hovertext}</b><br><br>Name=%{location}<br>Cases - cumulative total=%{customdata[0]}<br>Deaths - cumulative total=%{customdata[1]}<br>Cases - cumulative total per 100000 population=%{z}<extra></extra>",
         "hovertext": [
          "Belarus",
          "China",
          "French Guiana",
          "Latvia",
          "Saint Vincent and the Grenadines",
          "Guinea-Bissau",
          "Niger",
          "Comoros",
          "Antigua and Barbuda",
          "Senegal",
          "Malawi",
          "Kyrgyzstan",
          "C�te d'Ivoire",
          "Netherlands (Kingdom of the)",
          "Saudi Arabia",
          "American Samoa",
          "Azerbaijan",
          "Suriname",
          "New Caledonia",
          "Tokelau",
          "Sierra Leone",
          "French Polynesia",
          "Liberia",
          "Chad",
          "Iran (Islamic Republic of)",
          "Mexico",
          "British Virgin Islands",
          "Eswatini",
          "Guyana",
          "Paraguay",
          "Cook Islands",
          "Belize",
          "International conveyance (Diamond Princess)",
          "occupied Palestinian territory, including east Jerusalem",
          "Global",
          "Bahrain",
          "Cyprus",
          "Fiji",
          "Madagascar",
          "Indonesia",
          "Turks and Caicos Islands",
          "Sao Tome and Principe",
          "Sri Lanka",
          "Poland",
          "Kuwait",
          "Jersey",
          "Dominican Republic",
          "Saint Kitts and Nevis",
          "Cabo Verde",
          "Myanmar",
          "Sudan",
          "Colombia",
          "Republic of Moldova",
          "Mauritania",
          "Palau",
          "Bhutan",
          "Estonia",
          "Austria",
          "Syrian Arab Republic",
          "Greece",
          "Portugal",
          "Ukraine",
          "Venezuela (Bolivarian Republic of)",
          "Saint Barth�lemy",
          "Burundi",
          "Chile",
          "Nauru",
          "Malaysia",
          "Guam",
          "Seychelles",
          "Egypt",
          "Qatar",
          "Kiribati",
          "Libya",
          "Ethiopia",
          "International conveyance (Solomon Islands)",
          "R�union",
          "Gabon",
          "Belgium",
          "Israel",
          "Canada",
          "Andorra",
          "Thailand",
          "Czechia",
          "Honduras",
          "Papua New Guinea",
          "Cura�ao",
          "Peru",
          "Armenia",
          "India",
          "Switzerland",
          "Aruba",
          "United Republic of Tanzania",
          "Mayotte",
          "Philippines",
          "South Africa",
          "Bosnia and Herzegovina",
          "International conveyance (American Samoa)",
          "Pitcairn",
          "Oman",
          "Togo",
          "Luxembourg",
          "Bahamas",
          "Anguilla",
          "France",
          "Guinea",
          "Germany",
          "Isle of Man",
          "Wallis and Futuna",
          "Brazil",
          "Lesotho",
          "Romania",
          "Guernsey",
          "North Macedonia",
          "Zambia",
          "Brunei Darussalam",
          "Faroe Islands",
          "Republic of Korea",
          "Haiti",
          "Kenya",
          "Denmark",
          "Saint Pierre and Miquelon",
          "Japan",
          "Albania",
          "Mali",
          "Botswana",
          "Mauritius",
          "Micronesia (Federated States of)",
          "Cayman Islands",
          "Saint Lucia",
          "Singapore",
          "Tuvalu",
          "International commercial vessel",
          "Benin",
          "Sweden",
          "Kosovo (in accordance with UN Security Council resolution 1244 (1999))",
          "Somalia",
          "Algeria",
          "Italy",
          "Nigeria",
          "Zimbabwe",
          "New Zealand",
          "Holy See",
          "Solomon Islands",
          "Serbia",
          "United States Virgin Islands",
          "San Marino",
          "Congo",
          "Montenegro",
          "United Kingdom of Great Britain and Northern Ireland",
          "Iraq",
          "Russian Federation",
          "Afghanistan",
          "Timor-Leste",
          "Mozambique",
          "Martinique",
          "Hungary",
          "Burkina Faso",
          "Lao People's Democratic Republic",
          "Saint Helena",
          "Liechtenstein",
          "Iceland",
          "Gibraltar",
          "Bangladesh",
          "Guadeloupe",
          "El Salvador",
          "International conveyance (Kiribati)",
          "Grenada",
          "Falkland Islands (Malvinas)",
          "Trinidad and Tobago",
          "Bermuda",
          "South Sudan",
          "Slovakia",
          "Maldives",
          "Georgia",
          "Tajikistan",
          "Uzbekistan",
          "Jordan",
          "Ireland",
          "Namibia",
          "Uganda",
          "Ghana",
          "Monaco",
          "Equatorial Guinea",
          "Samoa",
          "T�rkiye",
          "Tonga",
          "Marshall Islands",
          "Nicaragua",
          "Dominica",
          "Pakistan",
          "Jamaica",
          "Djibouti",
          "Central African Republic",
          "Norway",
          "Kazakhstan",
          "Finland",
          "Northern Mariana Islands",
          "Montserrat",
          "Spain",
          "Cambodia",
          "Lithuania",
          "Slovenia",
          "Rwanda",
          "Bulgaria",
          "Croatia",
          "Morocco",
          "Gambia",
          "Puerto Rico",
          "Cameroon",
          "Guatemala",
          "Lebanon",
          "Costa Rica",
          "Saint Martin (French part)",
          "Malta",
          "Bolivia (Plurinational State of)",
          "Vanuatu",
          "International conveyance (Vanuatu)",
          "Greenland",
          "Yemen",
          "Bonaire, Saint Eustatius and Saba",
          "Australia",
          "Viet Nam",
          "Tunisia",
          "Cuba",
          "Sint Maarten (Dutch part)",
          "Barbados",
          "Ecuador",
          "Angola",
          "Niue",
          "United Arab Emirates",
          "Panama",
          "Uruguay",
          "United States of America",
          "Eritrea",
          "Mongolia",
          "Argentina",
          "Democratic Republic of the Congo",
          "Nepal",
          "Democratic People's Republic of Korea",
          "Turkmenistan"
         ],
         "locationmode": "country names",
         "locations": [
          "Belarus",
          "China",
          "French Guiana",
          "Latvia",
          "Saint Vincent and the Grenadines",
          "Guinea-Bissau",
          "Niger",
          "Comoros",
          "Antigua and Barbuda",
          "Senegal",
          "Malawi",
          "Kyrgyzstan",
          "C�te d'Ivoire",
          "Netherlands (Kingdom of the)",
          "Saudi Arabia",
          "American Samoa",
          "Azerbaijan",
          "Suriname",
          "New Caledonia",
          "Tokelau",
          "Sierra Leone",
          "French Polynesia",
          "Liberia",
          "Chad",
          "Iran (Islamic Republic of)",
          "Mexico",
          "British Virgin Islands",
          "Eswatini",
          "Guyana",
          "Paraguay",
          "Cook Islands",
          "Belize",
          "International conveyance (Diamond Princess)",
          "occupied Palestinian territory, including east Jerusalem",
          "Global",
          "Bahrain",
          "Cyprus",
          "Fiji",
          "Madagascar",
          "Indonesia",
          "Turks and Caicos Islands",
          "Sao Tome and Principe",
          "Sri Lanka",
          "Poland",
          "Kuwait",
          "Jersey",
          "Dominican Republic",
          "Saint Kitts and Nevis",
          "Cabo Verde",
          "Myanmar",
          "Sudan",
          "Colombia",
          "Republic of Moldova",
          "Mauritania",
          "Palau",
          "Bhutan",
          "Estonia",
          "Austria",
          "Syrian Arab Republic",
          "Greece",
          "Portugal",
          "Ukraine",
          "Venezuela (Bolivarian Republic of)",
          "Saint Barth�lemy",
          "Burundi",
          "Chile",
          "Nauru",
          "Malaysia",
          "Guam",
          "Seychelles",
          "Egypt",
          "Qatar",
          "Kiribati",
          "Libya",
          "Ethiopia",
          "International conveyance (Solomon Islands)",
          "R�union",
          "Gabon",
          "Belgium",
          "Israel",
          "Canada",
          "Andorra",
          "Thailand",
          "Czechia",
          "Honduras",
          "Papua New Guinea",
          "Cura�ao",
          "Peru",
          "Armenia",
          "India",
          "Switzerland",
          "Aruba",
          "United Republic of Tanzania",
          "Mayotte",
          "Philippines",
          "South Africa",
          "Bosnia and Herzegovina",
          "International conveyance (American Samoa)",
          "Pitcairn",
          "Oman",
          "Togo",
          "Luxembourg",
          "Bahamas",
          "Anguilla",
          "France",
          "Guinea",
          "Germany",
          "Isle of Man",
          "Wallis and Futuna",
          "Brazil",
          "Lesotho",
          "Romania",
          "Guernsey",
          "North Macedonia",
          "Zambia",
          "Brunei Darussalam",
          "Faroe Islands",
          "Republic of Korea",
          "Haiti",
          "Kenya",
          "Denmark",
          "Saint Pierre and Miquelon",
          "Japan",
          "Albania",
          "Mali",
          "Botswana",
          "Mauritius",
          "Micronesia (Federated States of)",
          "Cayman Islands",
          "Saint Lucia",
          "Singapore",
          "Tuvalu",
          "International commercial vessel",
          "Benin",
          "Sweden",
          "Kosovo (in accordance with UN Security Council resolution 1244 (1999))",
          "Somalia",
          "Algeria",
          "Italy",
          "Nigeria",
          "Zimbabwe",
          "New Zealand",
          "Holy See",
          "Solomon Islands",
          "Serbia",
          "United States Virgin Islands",
          "San Marino",
          "Congo",
          "Montenegro",
          "United Kingdom of Great Britain and Northern Ireland",
          "Iraq",
          "Russian Federation",
          "Afghanistan",
          "Timor-Leste",
          "Mozambique",
          "Martinique",
          "Hungary",
          "Burkina Faso",
          "Lao People's Democratic Republic",
          "Saint Helena",
          "Liechtenstein",
          "Iceland",
          "Gibraltar",
          "Bangladesh",
          "Guadeloupe",
          "El Salvador",
          "International conveyance (Kiribati)",
          "Grenada",
          "Falkland Islands (Malvinas)",
          "Trinidad and Tobago",
          "Bermuda",
          "South Sudan",
          "Slovakia",
          "Maldives",
          "Georgia",
          "Tajikistan",
          "Uzbekistan",
          "Jordan",
          "Ireland",
          "Namibia",
          "Uganda",
          "Ghana",
          "Monaco",
          "Equatorial Guinea",
          "Samoa",
          "T�rkiye",
          "Tonga",
          "Marshall Islands",
          "Nicaragua",
          "Dominica",
          "Pakistan",
          "Jamaica",
          "Djibouti",
          "Central African Republic",
          "Norway",
          "Kazakhstan",
          "Finland",
          "Northern Mariana Islands",
          "Montserrat",
          "Spain",
          "Cambodia",
          "Lithuania",
          "Slovenia",
          "Rwanda",
          "Bulgaria",
          "Croatia",
          "Morocco",
          "Gambia",
          "Puerto Rico",
          "Cameroon",
          "Guatemala",
          "Lebanon",
          "Costa Rica",
          "Saint Martin (French part)",
          "Malta",
          "Bolivia (Plurinational State of)",
          "Vanuatu",
          "International conveyance (Vanuatu)",
          "Greenland",
          "Yemen",
          "Bonaire, Saint Eustatius and Saba",
          "Australia",
          "Viet Nam",
          "Tunisia",
          "Cuba",
          "Sint Maarten (Dutch part)",
          "Barbados",
          "Ecuador",
          "Angola",
          "Niue",
          "United Arab Emirates",
          "Panama",
          "Uruguay",
          "United States of America",
          "Eritrea",
          "Mongolia",
          "Argentina",
          "Democratic Republic of the Congo",
          "Nepal",
          "Democratic People's Republic of Korea",
          "Turkmenistan"
         ],
         "name": "",
         "type": "choropleth",
         "z": [
          10520,
          6754,
          32825,
          51254,
          8720,
          489,
          39,
          1047,
          9299,
          534,
          466,
          1363,
          335,
          49637,
          2417,
          15144,
          8244,
          14064,
          28078,
          5926,
          100,
          28267,
          157,
          47,
          9082,
          5910,
          24993,
          6495,
          9467,
          10316,
          41818,
          17961,
          null,
          13785,
          4799497,
          40939,
          78424,
          7702,
          248,
          2497,
          17576,
          3090,
          3142,
          17583,
          15625,
          61589,
          6094,
          12421,
          11596,
          1182,
          146,
          12563,
          15838,
          1374,
          35220,
          8125,
          45935,
          68334,
          328,
          52985,
          55022,
          12652,
          1944,
          55711,
          459,
          28255,
          49778,
          16404,
          30980,
          52758,
          504,
          17859,
          4257,
          7382,
          436,
          null,
          55243,
          2204,
          42299,
          55936,
          12768,
          62143,
          6876,
          44537,
          4775,
          524,
          27962,
          13730,
          15263,
          3264,
          51514,
          41421,
          72,
          15405,
          3778,
          6867,
          12304,
          null,
          8000,
          7822,
          477,
          62885,
          9950,
          26023,
          59960,
          294,
          46218,
          44698,
          33434,
          17648,
          1687,
          18349,
          54796,
          16852,
          1903,
          79537,
          70926,
          67432,
          302,
          640,
          59004,
          59120,
          26727,
          11642,
          164,
          14062,
          25804,
          27616,
          47888,
          16492,
          51384,
          24958,
          null,
          231,
          26686,
          15274,
          172,
          621,
          44903,
          130,
          1792,
          54757,
          3214,
          3779,
          37297,
          24313,
          74524,
          457,
          40009,
          36792,
          6130,
          16637,
          604,
          1779,
          748,
          61384,
          22836,
          106,
          3011,
          35678,
          55715,
          57780,
          60996,
          1246,
          50793,
          3113,
          null,
          17501,
          55211,
          13683,
          30286,
          168,
          34411,
          34538,
          46717,
          186,
          523,
          17122,
          35163,
          6790,
          376,
          554,
          43780,
          1221,
          8597,
          20162,
          16074,
          27532,
          244,
          22290,
          716,
          5309,
          1588,
          320,
          28195,
          8012,
          27143,
          25941,
          28066,
          29536,
          833,
          49059,
          64735,
          1029,
          19138,
          32616,
          3465,
          522,
          43788,
          472,
          6979,
          18166,
          24246,
          31879,
          23877,
          10384,
          3913,
          null,
          21086,
          40,
          null,
          46515,
          11942,
          9759,
          9832,
          25771,
          37805,
          6108,
          327,
          66378,
          10789,
          24217,
          29978,
          31250,
          287,
          30854,
          22350,
          113,
          3444,
          null,
          null
         ]
        }
       ],
       "layout": {
        "coloraxis": {
         "colorbar": {
          "title": {
           "text": "Cases - cumulative total per 100000 population"
          }
         },
         "colorscale": [
          [
           0,
           "#440154"
          ],
          [
           0.1111111111111111,
           "#482878"
          ],
          [
           0.2222222222222222,
           "#3e4989"
          ],
          [
           0.3333333333333333,
           "#31688e"
          ],
          [
           0.4444444444444444,
           "#26828e"
          ],
          [
           0.5555555555555556,
           "#1f9e89"
          ],
          [
           0.6666666666666666,
           "#35b779"
          ],
          [
           0.7777777777777778,
           "#6ece58"
          ],
          [
           0.8888888888888888,
           "#b5de2b"
          ],
          [
           1,
           "#fde725"
          ]
         ]
        },
        "geo": {
         "center": {
          "lat": 126.53761407545687,
          "lon": -157.6164526605398
         },
         "domain": {
          "x": [
           0,
           1
          ],
          "y": [
           0,
           1
          ]
         },
         "projection": {
          "rotation": {
           "lon": -157.6164526605398
          },
          "scale": 15.584068296691852,
          "type": "equirectangular"
         },
         "showcoastlines": true,
         "showframe": false
        },
        "height": 600,
        "legend": {
         "tracegroupgap": 0
        },
        "template": {
         "data": {
          "bar": [
           {
            "error_x": {
             "color": "#2a3f5f"
            },
            "error_y": {
             "color": "#2a3f5f"
            },
            "marker": {
             "line": {
              "color": "#E5ECF6",
              "width": 0.5
             },
             "pattern": {
              "fillmode": "overlay",
              "size": 10,
              "solidity": 0.2
             }
            },
            "type": "bar"
           }
          ],
          "barpolar": [
           {
            "marker": {
             "line": {
              "color": "#E5ECF6",
              "width": 0.5
             },
             "pattern": {
              "fillmode": "overlay",
              "size": 10,
              "solidity": 0.2
             }
            },
            "type": "barpolar"
           }
          ],
          "carpet": [
           {
            "aaxis": {
             "endlinecolor": "#2a3f5f",
             "gridcolor": "white",
             "linecolor": "white",
             "minorgridcolor": "white",
             "startlinecolor": "#2a3f5f"
            },
            "baxis": {
             "endlinecolor": "#2a3f5f",
             "gridcolor": "white",
             "linecolor": "white",
             "minorgridcolor": "white",
             "startlinecolor": "#2a3f5f"
            },
            "type": "carpet"
           }
          ],
          "choropleth": [
           {
            "colorbar": {
             "outlinewidth": 0,
             "ticks": ""
            },
            "type": "choropleth"
           }
          ],
          "contour": [
           {
            "colorbar": {
             "outlinewidth": 0,
             "ticks": ""
            },
            "colorscale": [
             [
              0,
              "#0d0887"
             ],
             [
              0.1111111111111111,
              "#46039f"
             ],
             [
              0.2222222222222222,
              "#7201a8"
             ],
             [
              0.3333333333333333,
              "#9c179e"
             ],
             [
              0.4444444444444444,
              "#bd3786"
             ],
             [
              0.5555555555555556,
              "#d8576b"
             ],
             [
              0.6666666666666666,
              "#ed7953"
             ],
             [
              0.7777777777777778,
              "#fb9f3a"
             ],
             [
              0.8888888888888888,
              "#fdca26"
             ],
             [
              1,
              "#f0f921"
             ]
            ],
            "type": "contour"
           }
          ],
          "contourcarpet": [
           {
            "colorbar": {
             "outlinewidth": 0,
             "ticks": ""
            },
            "type": "contourcarpet"
           }
          ],
          "heatmap": [
           {
            "colorbar": {
             "outlinewidth": 0,
             "ticks": ""
            },
            "colorscale": [
             [
              0,
              "#0d0887"
             ],
             [
              0.1111111111111111,
              "#46039f"
             ],
             [
              0.2222222222222222,
              "#7201a8"
             ],
             [
              0.3333333333333333,
              "#9c179e"
             ],
             [
              0.4444444444444444,
              "#bd3786"
             ],
             [
              0.5555555555555556,
              "#d8576b"
             ],
             [
              0.6666666666666666,
              "#ed7953"
             ],
             [
              0.7777777777777778,
              "#fb9f3a"
             ],
             [
              0.8888888888888888,
              "#fdca26"
             ],
             [
              1,
              "#f0f921"
             ]
            ],
            "type": "heatmap"
           }
          ],
          "heatmapgl": [
           {
            "colorbar": {
             "outlinewidth": 0,
             "ticks": ""
            },
            "colorscale": [
             [
              0,
              "#0d0887"
             ],
             [
              0.1111111111111111,
              "#46039f"
             ],
             [
              0.2222222222222222,
              "#7201a8"
             ],
             [
              0.3333333333333333,
              "#9c179e"
             ],
             [
              0.4444444444444444,
              "#bd3786"
             ],
             [
              0.5555555555555556,
              "#d8576b"
             ],
             [
              0.6666666666666666,
              "#ed7953"
             ],
             [
              0.7777777777777778,
              "#fb9f3a"
             ],
             [
              0.8888888888888888,
              "#fdca26"
             ],
             [
              1,
              "#f0f921"
             ]
            ],
            "type": "heatmapgl"
           }
          ],
          "histogram": [
           {
            "marker": {
             "pattern": {
              "fillmode": "overlay",
              "size": 10,
              "solidity": 0.2
             }
            },
            "type": "histogram"
           }
          ],
          "histogram2d": [
           {
            "colorbar": {
             "outlinewidth": 0,
             "ticks": ""
            },
            "colorscale": [
             [
              0,
              "#0d0887"
             ],
             [
              0.1111111111111111,
              "#46039f"
             ],
             [
              0.2222222222222222,
              "#7201a8"
             ],
             [
              0.3333333333333333,
              "#9c179e"
             ],
             [
              0.4444444444444444,
              "#bd3786"
             ],
             [
              0.5555555555555556,
              "#d8576b"
             ],
             [
              0.6666666666666666,
              "#ed7953"
             ],
             [
              0.7777777777777778,
              "#fb9f3a"
             ],
             [
              0.8888888888888888,
              "#fdca26"
             ],
             [
              1,
              "#f0f921"
             ]
            ],
            "type": "histogram2d"
           }
          ],
          "histogram2dcontour": [
           {
            "colorbar": {
             "outlinewidth": 0,
             "ticks": ""
            },
            "colorscale": [
             [
              0,
              "#0d0887"
             ],
             [
              0.1111111111111111,
              "#46039f"
             ],
             [
              0.2222222222222222,
              "#7201a8"
             ],
             [
              0.3333333333333333,
              "#9c179e"
             ],
             [
              0.4444444444444444,
              "#bd3786"
             ],
             [
              0.5555555555555556,
              "#d8576b"
             ],
             [
              0.6666666666666666,
              "#ed7953"
             ],
             [
              0.7777777777777778,
              "#fb9f3a"
             ],
             [
              0.8888888888888888,
              "#fdca26"
             ],
             [
              1,
              "#f0f921"
             ]
            ],
            "type": "histogram2dcontour"
           }
          ],
          "mesh3d": [
           {
            "colorbar": {
             "outlinewidth": 0,
             "ticks": ""
            },
            "type": "mesh3d"
           }
          ],
          "parcoords": [
           {
            "line": {
             "colorbar": {
              "outlinewidth": 0,
              "ticks": ""
             }
            },
            "type": "parcoords"
           }
          ],
          "pie": [
           {
            "automargin": true,
            "type": "pie"
           }
          ],
          "scatter": [
           {
            "fillpattern": {
             "fillmode": "overlay",
             "size": 10,
             "solidity": 0.2
            },
            "type": "scatter"
           }
          ],
          "scatter3d": [
           {
            "line": {
             "colorbar": {
              "outlinewidth": 0,
              "ticks": ""
             }
            },
            "marker": {
             "colorbar": {
              "outlinewidth": 0,
              "ticks": ""
             }
            },
            "type": "scatter3d"
           }
          ],
          "scattercarpet": [
           {
            "marker": {
             "colorbar": {
              "outlinewidth": 0,
              "ticks": ""
             }
            },
            "type": "scattercarpet"
           }
          ],
          "scattergeo": [
           {
            "marker": {
             "colorbar": {
              "outlinewidth": 0,
              "ticks": ""
             }
            },
            "type": "scattergeo"
           }
          ],
          "scattergl": [
           {
            "marker": {
             "colorbar": {
              "outlinewidth": 0,
              "ticks": ""
             }
            },
            "type": "scattergl"
           }
          ],
          "scattermapbox": [
           {
            "marker": {
             "colorbar": {
              "outlinewidth": 0,
              "ticks": ""
             }
            },
            "type": "scattermapbox"
           }
          ],
          "scatterpolar": [
           {
            "marker": {
             "colorbar": {
              "outlinewidth": 0,
              "ticks": ""
             }
            },
            "type": "scatterpolar"
           }
          ],
          "scatterpolargl": [
           {
            "marker": {
             "colorbar": {
              "outlinewidth": 0,
              "ticks": ""
             }
            },
            "type": "scatterpolargl"
           }
          ],
          "scatterternary": [
           {
            "marker": {
             "colorbar": {
              "outlinewidth": 0,
              "ticks": ""
             }
            },
            "type": "scatterternary"
           }
          ],
          "surface": [
           {
            "colorbar": {
             "outlinewidth": 0,
             "ticks": ""
            },
            "colorscale": [
             [
              0,
              "#0d0887"
             ],
             [
              0.1111111111111111,
              "#46039f"
             ],
             [
              0.2222222222222222,
              "#7201a8"
             ],
             [
              0.3333333333333333,
              "#9c179e"
             ],
             [
              0.4444444444444444,
              "#bd3786"
             ],
             [
              0.5555555555555556,
              "#d8576b"
             ],
             [
              0.6666666666666666,
              "#ed7953"
             ],
             [
              0.7777777777777778,
              "#fb9f3a"
             ],
             [
              0.8888888888888888,
              "#fdca26"
             ],
             [
              1,
              "#f0f921"
             ]
            ],
            "type": "surface"
           }
          ],
          "table": [
           {
            "cells": {
             "fill": {
              "color": "#EBF0F8"
             },
             "line": {
              "color": "white"
             }
            },
            "header": {
             "fill": {
              "color": "#C8D4E3"
             },
             "line": {
              "color": "white"
             }
            },
            "type": "table"
           }
          ]
         },
         "layout": {
          "annotationdefaults": {
           "arrowcolor": "#2a3f5f",
           "arrowhead": 0,
           "arrowwidth": 1
          },
          "autotypenumbers": "strict",
          "coloraxis": {
           "colorbar": {
            "outlinewidth": 0,
            "ticks": ""
           }
          },
          "colorscale": {
           "diverging": [
            [
             0,
             "#8e0152"
            ],
            [
             0.1,
             "#c51b7d"
            ],
            [
             0.2,
             "#de77ae"
            ],
            [
             0.3,
             "#f1b6da"
            ],
            [
             0.4,
             "#fde0ef"
            ],
            [
             0.5,
             "#f7f7f7"
            ],
            [
             0.6,
             "#e6f5d0"
            ],
            [
             0.7,
             "#b8e186"
            ],
            [
             0.8,
             "#7fbc41"
            ],
            [
             0.9,
             "#4d9221"
            ],
            [
             1,
             "#276419"
            ]
           ],
           "sequential": [
            [
             0,
             "#0d0887"
            ],
            [
             0.1111111111111111,
             "#46039f"
            ],
            [
             0.2222222222222222,
             "#7201a8"
            ],
            [
             0.3333333333333333,
             "#9c179e"
            ],
            [
             0.4444444444444444,
             "#bd3786"
            ],
            [
             0.5555555555555556,
             "#d8576b"
            ],
            [
             0.6666666666666666,
             "#ed7953"
            ],
            [
             0.7777777777777778,
             "#fb9f3a"
            ],
            [
             0.8888888888888888,
             "#fdca26"
            ],
            [
             1,
             "#f0f921"
            ]
           ],
           "sequentialminus": [
            [
             0,
             "#0d0887"
            ],
            [
             0.1111111111111111,
             "#46039f"
            ],
            [
             0.2222222222222222,
             "#7201a8"
            ],
            [
             0.3333333333333333,
             "#9c179e"
            ],
            [
             0.4444444444444444,
             "#bd3786"
            ],
            [
             0.5555555555555556,
             "#d8576b"
            ],
            [
             0.6666666666666666,
             "#ed7953"
            ],
            [
             0.7777777777777778,
             "#fb9f3a"
            ],
            [
             0.8888888888888888,
             "#fdca26"
            ],
            [
             1,
             "#f0f921"
            ]
           ]
          },
          "colorway": [
           "#636efa",
           "#EF553B",
           "#00cc96",
           "#ab63fa",
           "#FFA15A",
           "#19d3f3",
           "#FF6692",
           "#B6E880",
           "#FF97FF",
           "#FECB52"
          ],
          "font": {
           "color": "#2a3f5f"
          },
          "geo": {
           "bgcolor": "white",
           "lakecolor": "white",
           "landcolor": "#E5ECF6",
           "showlakes": true,
           "showland": true,
           "subunitcolor": "white"
          },
          "hoverlabel": {
           "align": "left"
          },
          "hovermode": "closest",
          "mapbox": {
           "style": "light"
          },
          "paper_bgcolor": "white",
          "plot_bgcolor": "#E5ECF6",
          "polar": {
           "angularaxis": {
            "gridcolor": "white",
            "linecolor": "white",
            "ticks": ""
           },
           "bgcolor": "#E5ECF6",
           "radialaxis": {
            "gridcolor": "white",
            "linecolor": "white",
            "ticks": ""
           }
          },
          "scene": {
           "xaxis": {
            "backgroundcolor": "#E5ECF6",
            "gridcolor": "white",
            "gridwidth": 2,
            "linecolor": "white",
            "showbackground": true,
            "ticks": "",
            "zerolinecolor": "white"
           },
           "yaxis": {
            "backgroundcolor": "#E5ECF6",
            "gridcolor": "white",
            "gridwidth": 2,
            "linecolor": "white",
            "showbackground": true,
            "ticks": "",
            "zerolinecolor": "white"
           },
           "zaxis": {
            "backgroundcolor": "#E5ECF6",
            "gridcolor": "white",
            "gridwidth": 2,
            "linecolor": "white",
            "showbackground": true,
            "ticks": "",
            "zerolinecolor": "white"
           }
          },
          "shapedefaults": {
           "line": {
            "color": "#2a3f5f"
           }
          },
          "ternary": {
           "aaxis": {
            "gridcolor": "white",
            "linecolor": "white",
            "ticks": ""
           },
           "baxis": {
            "gridcolor": "white",
            "linecolor": "white",
            "ticks": ""
           },
           "bgcolor": "#E5ECF6",
           "caxis": {
            "gridcolor": "white",
            "linecolor": "white",
            "ticks": ""
           }
          },
          "title": {
           "x": 0.05
          },
          "xaxis": {
           "automargin": true,
           "gridcolor": "white",
           "linecolor": "white",
           "ticks": "",
           "title": {
            "standoff": 15
           },
           "zerolinecolor": "white",
           "zerolinewidth": 2
          },
          "yaxis": {
           "automargin": true,
           "gridcolor": "white",
           "linecolor": "white",
           "ticks": "",
           "title": {
            "standoff": 15
           },
           "zerolinecolor": "white",
           "zerolinewidth": 2
          }
         }
        },
        "title": {
         "text": "COVID-19 Cases per 100,000 Population by Country",
         "x": 0.5
        },
        "width": 1000
       }
      },
      "image/png": "[encoded data removed]",
      "text/html": [
       "<div>                            <div id=\"5af2566e-4c9c-49d9-a946-d77203305c9c\" class=\"plotly-graph-div\" style=\"height:600px; width:1000px;\"></div>            <script type=\"text/javascript\">                require([\"plotly\"], function(Plotly) {                    window.PLOTLYENV=window.PLOTLYENV || {};                                    if (document.getElementById(\"5af2566e-4c9c-49d9-a946-d77203305c9c\")) {                    Plotly.newPlot(                        \"5af2566e-4c9c-49d9-a946-d77203305c9c\",                        [{\"coloraxis\":\"coloraxis\",\"customdata\":[[994037.0,7118.0],[99375079.0,122309.0],[98041.0,413.0],[977765.0,7475.0],[9674.0,124.0],[9614.0,177.0],[9518.0,315.0],[9109.0,160.0],[9106.0,146.0],[89485.0,1971.0],[89168.0,2686.0],[88953.0,1024.0],[88434.0,835.0],[8640536.0,22986.0],[841469.0,9646.0],[8359.0,34.0],[835838.0,10353.0],[82501.0,1406.0],[80163.0,314.0],[80.0,0.0],[7979.0,125.0],[79404.0,650.0],[7930.0,294.0],[7702.0,194.0],[7627863.0,146837.0],[7620108.0,334586.0],[7557.0,64.0],[75356.0,1427.0],[74461.0,1302.0],[735759.0,19880.0],[7345.0,2.0],[71416.0,688.0],[712.0,13.0],[703228.0,5708.0],[775917104.0,7058381.0],[696614.0,1536.0],[696410.0,1451.0],[69047.0,885.0],[68567.0,1428.0],[6829491.0,162059.0],[6805.0,40.0],[6771.0,80.0],[672798.0,16907.0],[6674042.0,120734.0],[667290.0,2570.0],[66391.0,161.0],[661103.0,4384.0],[6607.0,46.0],[64474.0,417.0],[642902.0,19494.0],[63993.0,5046.0],[6392472.0,142727.0],[638901.0,12248.0],[63872.0,997.0],[6372.0,10.0],[62697.0,21.0],[610471.0,2998.0],[6082465.0,22534.0],[57423.0,3163.0],[5679215.0,39296.0],[5665049.0,28840.0],[5533052.0,109923.0],[552695.0,5856.0],[5507.0,5.0],[54569.0,15.0],[5401231.0,62734.0],[5393.0,1.0],[5309410.0,37351.0],[52287.0,419.0],[51886.0,172.0],[516023.0,24830.0],[514524.0,690.0],[5085.0,24.0],[507269.0,6437.0],[501193.0,7574.0],[5.0,0.0],[494595.0,921.0],[49051.0,307.0],[4873873.0,34339.0],[4841558.0,12707.0],[4819055.0,55282.0],[48015.0,159.0],[4799699.0,34719.0],[4762740.0,43510.0],[472898.0,11114.0],[46864.0,670.0],[45883.0,305.0],[4526977.0,220975.0],[452273.0,8777.0],[45042054.0,533626.0],[4458338.0,14170.0],[44224.0,292.0],[43230.0,846.0],[42027.0,187.0],[4140383.0,66864.0],[4072765.0,102595.0],[403666.0,16392.0],[4.0,0.0],[4.0,0.0],[399449.0,4628.0],[39530.0,290.0],[393730.0,1000.0],[39127.0,849.0],[3904.0,12.0],[38997490.0,168091.0],[38572.0,468.0],[38437756.0,174979.0],[38008.0,116.0],[3760.0,9.0],[37511921.0,702116.0],[36138.0,709.0],[3546652.0,68841.0],[35326.0,67.0],[351093.0,9979.0],[349842.0,4077.0],[347958.0,180.0],[34658.0,28.0],[34571873.0,35934.0],[34456.0,860.0],[344106.0,5689.0],[3435679.0,9693.0],[3426.0,2.0],[33803572.0,74694.0],[335047.0,3605.0],[33166.0,743.0],[330696.0,2801.0],[328167.0,1073.0],[31765.0,65.0],[31472.0,37.0],[30283.0,410.0],[3006155.0,2024.0],[2943.0,1.0],[29.0,0.0],[28036.0,163.0],[2755993.0,27433.0],[274279.0,3212.0],[27334.0,1361.0],[272139.0,6881.0],[26781078.0,197307.0],[267188.0,3155.0],[266386.0,5740.0],[2640529.0,4299.0],[26.0,0.0],[25954.0,199.0],[2583470.0,18057.0],[25389.0,132.0],[25292.0,126.0],[25227.0,389.0],[251280.0,2654.0],[24976777.0,232112.0],[2465545.0,25375.0],[24278671.0,403202.0],[235214.0,7998.0],[23460.0,138.0],[233843.0,2252.0],[230354.0,1104.0],[2230925.0,49053.0],[22139.0,400.0],[219060.0,671.0],[2166.0,0.0],[21588.0,89.0],[210398.0,186.0],[20550.0,113.0],[2051363.0,29499.0],[203235.0,1021.0],[201920.0,4230.0],[2.0,0.0],[19693.0,238.0],[1923.0,0.0],[191496.0,4390.0],[18860.0,165.0],[18823.0,147.0],[1878101.0,21228.0],[186694.0,316.0],[1863615.0,17150.0],[17786.0,125.0],[175081.0,1016.0],[1746997.0,14122.0],[1745670.0,9759.0],[172533.0,4108.0],[172154.0,3632.0],[172062.0,1462.0],[17181.0,67.0],[17130.0,183.0],[17057.0,31.0],[17004720.0,101419.0],[16989.0,13.0],[16297.0,17.0],[16188.0,245.0],[16047.0,74.0],[1580631.0,30656.0],[157203.0,3611.0],[15690.0,189.0],[15441.0,113.0],[1513374.0,5732.0],[1504370.0,19072.0],[1499712.0,11466.0],[14931.0,41.0],[1403.0,8.0],[13980340.0,121852.0],[139320.0,3056.0],[1370762.0,9810.0],[1356746.0,10083.0],[133264.0,1468.0],[1330400.0,38701.0],[1323608.0,18754.0],[1279115.0,16305.0],[12627.0,372.0],[1252713.0,5938.0],[125246.0,1974.0],[1250373.0,20203.0],[1239904.0,10947.0],[1235145.0,9373.0],[12324.0,46.0],[122865.0,922.0],[1212147.0,22387.0],[12019.0,14.0],[12.0,0.0],[11971.0,21.0],[11945.0,2159.0],[11922.0,41.0],[11861161.0,25236.0],[11624000.0,43206.0],[1153361.0,29423.0],[1113662.0,8530.0],[11051.0,92.0],[108642.0,593.0],[1077623.0,36050.0],[107481.0,1937.0],[1074.0,0.0],[1067030.0,2349.0],[1044887.0,8753.0],[1041361.0,7682.0],[103436829.0,1194158.0],[10189.0,103.0],[1011489.0,2136.0],[10101328.0,130664.0],[101009.0,1474.0],[1003450.0,12031.0],[0.0,0.0],[0.0,0.0]],\"geo\":\"geo\",\"hovertemplate\":\"\\u003cb\\u003e%{hovertext}\\u003c\\u002fb\\u003e\\u003cbr\\u003e\\u003cbr\\u003eName=%{location}\\u003cbr\\u003eCases - cumulative total=%{customdata[0]}\\u003cbr\\u003eDeaths - cumulative total=%{customdata[1]}\\u003cbr\\u003eCases - cumulative total per 100000 population=%{z}\\u003cextra\\u003e\\u003c\\u002fextra\\u003e\",\"hovertext\":[\"Belarus\",\"China\",\"French Guiana\",\"Latvia\",\"Saint Vincent and the Grenadines\",\"Guinea-Bissau\",\"Niger\",\"Comoros\",\"Antigua and Barbuda\",\"Senegal\",\"Malawi\",\"Kyrgyzstan\",\"C�te d'Ivoire\",\"Netherlands (Kingdom of the)\",\"Saudi Arabia\",\"American Samoa\",\"Azerbaijan\",\"Suriname\",\"New Caledonia\",\"Tokelau\",\"Sierra Leone\",\"French Polynesia\",\"Liberia\",\"Chad\",\"Iran (Islamic Republic of)\",\"Mexico\",\"British Virgin Islands\",\"Eswatini\",\"Guyana\",\"Paraguay\",\"Cook Islands\",\"Belize\",\"International conveyance (Diamond Princess)\",\"occupied Palestinian territory, including east Jerusalem\",\"Global\",\"Bahrain\",\"Cyprus\",\"Fiji\",\"Madagascar\",\"Indonesia\",\"Turks and Caicos Islands\",\"Sao Tome and Principe\",\"Sri Lanka\",\"Poland\",\"Kuwait\",\"Jersey\",\"Dominican Republic\",\"Saint Kitts and Nevis\",\"Cabo Verde\",\"Myanmar\",\"Sudan\",\"Colombia\",\"Republic of Moldova\",\"Mauritania\",\"Palau\",\"Bhutan\",\"Estonia\",\"Austria\",\"Syrian Arab Republic\",\"Greece\",\"Portugal\",\"Ukraine\",\"Venezuela (Bolivarian Republic of)\",\"Saint Barth�lemy\",\"Burundi\",\"Chile\",\"Nauru\",\"Malaysia\",\"Guam\",\"Seychelles\",\"Egypt\",\"Qatar\",\"Kiribati\",\"Libya\",\"Ethiopia\",\"International conveyance (Solomon Islands)\",\"R�union\",\"Gabon\",\"Belgium\",\"Israel\",\"Canada\",\"Andorra\",\"Thailand\",\"Czechia\",\"Honduras\",\"Papua New Guinea\",\"Cura�ao\",\"Peru\",\"Armenia\",\"India\",\"Switzerland\",\"Aruba\",\"United Republic of Tanzania\",\"Mayotte\",\"Philippines\",\"South Africa\",\"Bosnia and Herzegovina\",\"International conveyance (American Samoa)\",\"Pitcairn\",\"Oman\",\"Togo\",\"Luxembourg\",\"Bahamas\",\"Anguilla\",\"France\",\"Guinea\",\"Germany\",\"Isle of Man\",\"Wallis and Futuna\",\"Brazil\",\"Lesotho\",\"Romania\",\"Guernsey\",\"North Macedonia\",\"Zambia\",\"Brunei Darussalam\",\"Faroe Islands\",\"Republic of Korea\",\"Haiti\",\"Kenya\",\"Denmark\",\"Saint Pierre and Miquelon\",\"Japan\",\"Albania\",\"Mali\",\"Botswana\",\"Mauritius\",\"Micronesia (Federated States of)\",\"Cayman Islands\",\"Saint Lucia\",\"Singapore\",\"Tuvalu\",\"International commercial vessel\",\"Benin\",\"Sweden\",\"Kosovo (in accordance with UN Security Council resolution 1244 (1999))\",\"Somalia\",\"Algeria\",\"Italy\",\"Nigeria\",\"Zimbabwe\",\"New Zealand\",\"Holy See\",\"Solomon Islands\",\"Serbia\",\"United States Virgin Islands\",\"San Marino\",\"Congo\",\"Montenegro\",\"United Kingdom of Great Britain and Northern Ireland\",\"Iraq\",\"Russian Federation\",\"Afghanistan\",\"Timor-Leste\",\"Mozambique\",\"Martinique\",\"Hungary\",\"Burkina Faso\",\"Lao People's Democratic Republic\",\"Saint Helena\",\"Liechtenstein\",\"Iceland\",\"Gibraltar\",\"Bangladesh\",\"Guadeloupe\",\"El Salvador\",\"International conveyance (Kiribati)\",\"Grenada\",\"Falkland Islands (Malvinas)\",\"Trinidad and Tobago\",\"Bermuda\",\"South Sudan\",\"Slovakia\",\"Maldives\",\"Georgia\",\"Tajikistan\",\"Uzbekistan\",\"Jordan\",\"Ireland\",\"Namibia\",\"Uganda\",\"Ghana\",\"Monaco\",\"Equatorial Guinea\",\"Samoa\",\"T�rkiye\",\"Tonga\",\"Marshall Islands\",\"Nicaragua\",\"Dominica\",\"Pakistan\",\"Jamaica\",\"Djibouti\",\"Central African Republic\",\"Norway\",\"Kazakhstan\",\"Finland\",\"Northern Mariana Islands\",\"Montserrat\",\"Spain\",\"Cambodia\",\"Lithuania\",\"Slovenia\",\"Rwanda\",\"Bulgaria\",\"Croatia\",\"Morocco\",\"Gambia\",\"Puerto Rico\",\"Cameroon\",\"Guatemala\",\"Lebanon\",\"Costa Rica\",\"Saint Martin (French part)\",\"Malta\",\"Bolivia (Plurinational State of)\",\"Vanuatu\",\"International conveyance (Vanuatu)\",\"Greenland\",\"Yemen\",\"Bonaire, Saint Eustatius and Saba\",\"Australia\",\"Viet Nam\",\"Tunisia\",\"Cuba\",\"Sint Maarten (Dutch part)\",\"Barbados\",\"Ecuador\",\"Angola\",\"Niue\",\"United Arab Emirates\",\"Panama\",\"Uruguay\",\"United States of America\",\"Eritrea\",\"Mongolia\",\"Argentina\",\"Democratic Republic of the Congo\",\"Nepal\",\"Democratic People's Republic of Korea\",\"Turkmenistan\"],\"locationmode\":\"country names\",\"locations\":[\"Belarus\",\"China\",\"French Guiana\",\"Latvia\",\"Saint Vincent and the Grenadines\",\"Guinea-Bissau\",\"Niger\",\"Comoros\",\"Antigua and Barbuda\",\"Senegal\",\"Malawi\",\"Kyrgyzstan\",\"C�te d'Ivoire\",\"Netherlands (Kingdom of the)\",\"Saudi Arabia\",\"American Samoa\",\"Azerbaijan\",\"Suriname\",\"New Caledonia\",\"Tokelau\",\"Sierra Leone\",\"French Polynesia\",\"Liberia\",\"Chad\",\"Iran (Islamic Republic of)\",\"Mexico\",\"British Virgin Islands\",\"Eswatini\",\"Guyana\",\"Paraguay\",\"Cook Islands\",\"Belize\",\"International conveyance (Diamond Princess)\",\"occupied Palestinian territory, including east Jerusalem\",\"Global\",\"Bahrain\",\"Cyprus\",\"Fiji\",\"Madagascar\",\"Indonesia\",\"Turks and Caicos Islands\",\"Sao Tome and Principe\",\"Sri Lanka\",\"Poland\",\"Kuwait\",\"Jersey\",\"Dominican Republic\",\"Saint Kitts and Nevis\",\"Cabo Verde\",\"Myanmar\",\"Sudan\",\"Colombia\",\"Republic of Moldova\",\"Mauritania\",\"Palau\",\"Bhutan\",\"Estonia\",\"Austria\",\"Syrian Arab Republic\",\"Greece\",\"Portugal\",\"Ukraine\",\"Venezuela (Bolivarian Republic of)\",\"Saint Barth�lemy\",\"Burundi\",\"Chile\",\"Nauru\",\"Malaysia\",\"Guam\",\"Seychelles\",\"Egypt\",\"Qatar\",\"Kiribati\",\"Libya\",\"Ethiopia\",\"International conveyance (Solomon Islands)\",\"R�union\",\"Gabon\",\"Belgium\",\"Israel\",\"Canada\",\"Andorra\",\"Thailand\",\"Czechia\",\"Honduras\",\"Papua New Guinea\",\"Cura�ao\",\"Peru\",\"Armenia\",\"India\",\"Switzerland\",\"Aruba\",\"United Republic of Tanzania\",\"Mayotte\",\"Philippines\",\"South Africa\",\"Bosnia and Herzegovina\",\"International conveyance (American Samoa)\",\"Pitcairn\",\"Oman\",\"Togo\",\"Luxembourg\",\"Bahamas\",\"Anguilla\",\"France\",\"Guinea\",\"Germany\",\"Isle of Man\",\"Wallis and Futuna\",\"Brazil\",\"Lesotho\",\"Romania\",\"Guernsey\",\"North Macedonia\",\"Zambia\",\"Brunei Darussalam\",\"Faroe Islands\",\"Republic of Korea\",\"Haiti\",\"Kenya\",\"Denmark\",\"Saint Pierre and Miquelon\",\"Japan\",\"Albania\",\"Mali\",\"Botswana\",\"Mauritius\",\"Micronesia (Federated States of)\",\"Cayman Islands\",\"Saint Lucia\",\"Singapore\",\"Tuvalu\",\"International commercial vessel\",\"Benin\",\"Sweden\",\"Kosovo (in accordance with UN Security Council resolution 1244 (1999))\",\"Somalia\",\"Algeria\",\"Italy\",\"Nigeria\",\"Zimbabwe\",\"New Zealand\",\"Holy See\",\"Solomon Islands\",\"Serbia\",\"United States Virgin Islands\",\"San Marino\",\"Congo\",\"Montenegro\",\"United Kingdom of Great Britain and Northern Ireland\",\"Iraq\",\"Russian Federation\",\"Afghanistan\",\"Timor-Leste\",\"Mozambique\",\"Martinique\",\"Hungary\",\"Burkina Faso\",\"Lao People's Democratic Republic\",\"Saint Helena\",\"Liechtenstein\",\"Iceland\",\"Gibraltar\",\"Bangladesh\",\"Guadeloupe\",\"El Salvador\",\"International conveyance (Kiribati)\",\"Grenada\",\"Falkland Islands (Malvinas)\",\"Trinidad and Tobago\",\"Bermuda\",\"South Sudan\",\"Slovakia\",\"Maldives\",\"Georgia\",\"Tajikistan\",\"Uzbekistan\",\"Jordan\",\"Ireland\",\"Namibia\",\"Uganda\",\"Ghana\",\"Monaco\",\"Equatorial Guinea\",\"Samoa\",\"T�rkiye\",\"Tonga\",\"Marshall Islands\",\"Nicaragua\",\"Dominica\",\"Pakistan\",\"Jamaica\",\"Djibouti\",\"Central African Republic\",\"Norway\",\"Kazakhstan\",\"Finland\",\"Northern Mariana Islands\",\"Montserrat\",\"Spain\",\"Cambodia\",\"Lithuania\",\"Slovenia\",\"Rwanda\",\"Bulgaria\",\"Croatia\",\"Morocco\",\"Gambia\",\"Puerto Rico\",\"Cameroon\",\"Guatemala\",\"Lebanon\",\"Costa Rica\",\"Saint Martin (French part)\",\"Malta\",\"Bolivia (Plurinational State of)\",\"Vanuatu\",\"International conveyance (Vanuatu)\",\"Greenland\",\"Yemen\",\"Bonaire, Saint Eustatius and Saba\",\"Australia\",\"Viet Nam\",\"Tunisia\",\"Cuba\",\"Sint Maarten (Dutch part)\",\"Barbados\",\"Ecuador\",\"Angola\",\"Niue\",\"United Arab Emirates\",\"Panama\",\"Uruguay\",\"United States of America\",\"Eritrea\",\"Mongolia\",\"Argentina\",\"Democratic Republic of the Congo\",\"Nepal\",\"Democratic People's Republic of Korea\",\"Turkmenistan\"],\"name\":\"\",\"z\":[10520.0,6754.0,32825.0,51254.0,8720.0,489.0,39.0,1047.0,9299.0,534.0,466.0,1363.0,335.0,49637.0,2417.0,15144.0,8244.0,14064.0,28078.0,5926.0,100.0,28267.0,157.0,47.0,9082.0,5910.0,24993.0,6495.0,9467.0,10316.0,41818.0,17961.0,null,13785.0,4799497.0,40939.0,78424.0,7702.0,248.0,2497.0,17576.0,3090.0,3142.0,17583.0,15625.0,61589.0,6094.0,12421.0,11596.0,1182.0,146.0,12563.0,15838.0,1374.0,35220.0,8125.0,45935.0,68334.0,328.0,52985.0,55022.0,12652.0,1944.0,55711.0,459.0,28255.0,49778.0,16404.0,30980.0,52758.0,504.0,17859.0,4257.0,7382.0,436.0,null,55243.0,2204.0,42299.0,55936.0,12768.0,62143.0,6876.0,44537.0,4775.0,524.0,27962.0,13730.0,15263.0,3264.0,51514.0,41421.0,72.0,15405.0,3778.0,6867.0,12304.0,null,8000.0,7822.0,477.0,62885.0,9950.0,26023.0,59960.0,294.0,46218.0,44698.0,33434.0,17648.0,1687.0,18349.0,54796.0,16852.0,1903.0,79537.0,70926.0,67432.0,302.0,640.0,59004.0,59120.0,26727.0,11642.0,164.0,14062.0,25804.0,27616.0,47888.0,16492.0,51384.0,24958.0,null,231.0,26686.0,15274.0,172.0,621.0,44903.0,130.0,1792.0,54757.0,3214.0,3779.0,37297.0,24313.0,74524.0,457.0,40009.0,36792.0,6130.0,16637.0,604.0,1779.0,748.0,61384.0,22836.0,106.0,3011.0,35678.0,55715.0,57780.0,60996.0,1246.0,50793.0,3113.0,null,17501.0,55211.0,13683.0,30286.0,168.0,34411.0,34538.0,46717.0,186.0,523.0,17122.0,35163.0,6790.0,376.0,554.0,43780.0,1221.0,8597.0,20162.0,16074.0,27532.0,244.0,22290.0,716.0,5309.0,1588.0,320.0,28195.0,8012.0,27143.0,25941.0,28066.0,29536.0,833.0,49059.0,64735.0,1029.0,19138.0,32616.0,3465.0,522.0,43788.0,472.0,6979.0,18166.0,24246.0,31879.0,23877.0,10384.0,3913.0,null,21086.0,40.0,null,46515.0,11942.0,9759.0,9832.0,25771.0,37805.0,6108.0,327.0,66378.0,10789.0,24217.0,29978.0,31250.0,287.0,30854.0,22350.0,113.0,3444.0,null,null],\"type\":\"choropleth\"}],                        {\"template\":{\"data\":{\"histogram2dcontour\":[{\"type\":\"histogram2dcontour\",\"colorbar\":{\"outlinewidth\":0,\"ticks\":\"\"},\"colorscale\":[[0.0,\"#0d0887\"],[0.1111111111111111,\"#46039f\"],[0.2222222222222222,\"#7201a8\"],[0.3333333333333333,\"#9c179e\"],[0.4444444444444444,\"#bd3786\"],[0.5555555555555556,\"#d8576b\"],[0.6666666666666666,\"#ed7953\"],[0.7777777777777778,\"#fb9f3a\"],[0.8888888888888888,\"#fdca26\"],[1.0,\"#f0f921\"]]}],\"choropleth\":[{\"type\":\"choropleth\",\"colorbar\":{\"outlinewidth\":0,\"ticks\":\"\"}}],\"histogram2d\":[{\"type\":\"histogram2d\",\"colorbar\":{\"outlinewidth\":0,\"ticks\":\"\"},\"colorscale\":[[0.0,\"#0d0887\"],[0.1111111111111111,\"#46039f\"],[0.2222222222222222,\"#7201a8\"],[0.3333333333333333,\"#9c179e\"],[0.4444444444444444,\"#bd3786\"],[0.5555555555555556,\"#d8576b\"],[0.6666666666666666,\"#ed7953\"],[0.7777777777777778,\"#fb9f3a\"],[0.8888888888888888,\"#fdca26\"],[1.0,\"#f0f921\"]]}],\"heatmap\":[{\"type\":\"heatmap\",\"colorbar\":{\"outlinewidth\":0,\"ticks\":\"\"},\"colorscale\":[[0.0,\"#0d0887\"],[0.1111111111111111,\"#46039f\"],[0.2222222222222222,\"#7201a8\"],[0.3333333333333333,\"#9c179e\"],[0.4444444444444444,\"#bd3786\"],[0.5555555555555556,\"#d8576b\"],[0.6666666666666666,\"#ed7953\"],[0.7777777777777778,\"#fb9f3a\"],[0.8888888888888888,\"#fdca26\"],[1.0,\"#f0f921\"]]}],\"heatmapgl\":[{\"type\":\"heatmapgl\",\"colorbar\":{\"outlinewidth\":0,\"ticks\":\"\"},\"colorscale\":[[0.0,\"#0d0887\"],[0.1111111111111111,\"#46039f\"],[0.2222222222222222,\"#7201a8\"],[0.3333333333333333,\"#9c179e\"],[0.4444444444444444,\"#bd3786\"],[0.5555555555555556,\"#d8576b\"],[0.6666666666666666,\"#ed7953\"],[0.7777777777777778,\"#fb9f3a\"],[0.8888888888888888,\"#fdca26\"],[1.0,\"#f0f921\"]]}],\"contourcarpet\":[{\"type\":\"contourcarpet\",\"colorbar\":{\"outlinewidth\":0,\"ticks\":\"\"}}],\"contour\":[{\"type\":\"contour\",\"colorbar\":{\"outlinewidth\":0,\"ticks\":\"\"},\"colorscale\":[[0.0,\"#0d0887\"],[0.1111111111111111,\"#46039f\"],[0.2222222222222222,\"#7201a8\"],[0.3333333333333333,\"#9c179e\"],[0.4444444444444444,\"#bd3786\"],[0.5555555555555556,\"#d8576b\"],[0.6666666666666666,\"#ed7953\"],[0.7777777777777778,\"#fb9f3a\"],[0.8888888888888888,\"#fdca26\"],[1.0,\"#f0f921\"]]}],\"surface\":[{\"type\":\"surface\",\"colorbar\":{\"outlinewidth\":0,\"ticks\":\"\"},\"colorscale\":[[0.0,\"#0d0887\"],[0.1111111111111111,\"#46039f\"],[0.2222222222222222,\"#7201a8\"],[0.3333333333333333,\"#9c179e\"],[0.4444444444444444,\"#bd3786\"],[0.5555555555555556,\"#d8576b\"],[0.6666666666666666,\"#ed7953\"],[0.7777777777777778,\"#fb9f3a\"],[0.8888888888888888,\"#fdca26\"],[1.0,\"#f0f921\"]]}],\"mesh3d\":[{\"type\":\"mesh3d\",\"colorbar\":{\"outlinewidth\":0,\"ticks\":\"\"}}],\"scatter\":[{\"fillpattern\":{\"fillmode\":\"overlay\",\"size\":10,\"solidity\":0.2},\"type\":\"scatter\"}],\"parcoords\":[{\"type\":\"parcoords\",\"line\":{\"colorbar\":{\"outlinewidth\":0,\"ticks\":\"\"}}}],\"scatterpolargl\":[{\"type\":\"scatterpolargl\",\"marker\":{\"colorbar\":{\"outlinewidth\":0,\"ticks\":\"\"}}}],\"bar\":[{\"error_x\":{\"color\":\"#2a3f5f\"},\"error_y\":{\"color\":\"#2a3f5f\"},\"marker\":{\"line\":{\"color\":\"#E5ECF6\",\"width\":0.5},\"pattern\":{\"fillmode\":\"overlay\",\"size\":10,\"solidity\":0.2}},\"type\":\"bar\"}],\"scattergeo\":[{\"type\":\"scattergeo\",\"marker\":{\"colorbar\":{\"outlinewidth\":0,\"ticks\":\"\"}}}],\"scatterpolar\":[{\"type\":\"scatterpolar\",\"marker\":{\"colorbar\":{\"outlinewidth\":0,\"ticks\":\"\"}}}],\"histogram\":[{\"marker\":{\"pattern\":{\"fillmode\":\"overlay\",\"size\":10,\"solidity\":0.2}},\"type\":\"histogram\"}],\"scattergl\":[{\"type\":\"scattergl\",\"marker\":{\"colorbar\":{\"outlinewidth\":0,\"ticks\":\"\"}}}],\"scatter3d\":[{\"type\":\"scatter3d\",\"line\":{\"colorbar\":{\"outlinewidth\":0,\"ticks\":\"\"}},\"marker\":{\"colorbar\":{\"outlinewidth\":0,\"ticks\":\"\"}}}],\"scattermapbox\":[{\"type\":\"scattermapbox\",\"marker\":{\"colorbar\":{\"outlinewidth\":0,\"ticks\":\"\"}}}],\"scatterternary\":[{\"type\":\"scatterternary\",\"marker\":{\"colorbar\":{\"outlinewidth\":0,\"ticks\":\"\"}}}],\"scattercarpet\":[{\"type\":\"scattercarpet\",\"marker\":{\"colorbar\":{\"outlinewidth\":0,\"ticks\":\"\"}}}],\"carpet\":[{\"aaxis\":{\"endlinecolor\":\"#2a3f5f\",\"gridcolor\":\"white\",\"linecolor\":\"white\",\"minorgridcolor\":\"white\",\"startlinecolor\":\"#2a3f5f\"},\"baxis\":{\"endlinecolor\":\"#2a3f5f\",\"gridcolor\":\"white\",\"linecolor\":\"white\",\"minorgridcolor\":\"white\",\"startlinecolor\":\"#2a3f5f\"},\"type\":\"carpet\"}],\"table\":[{\"cells\":{\"fill\":{\"color\":\"#EBF0F8\"},\"line\":{\"color\":\"white\"}},\"header\":{\"fill\":{\"color\":\"#C8D4E3\"},\"line\":{\"color\":\"white\"}},\"type\":\"table\"}],\"barpolar\":[{\"marker\":{\"line\":{\"color\":\"#E5ECF6\",\"width\":0.5},\"pattern\":{\"fillmode\":\"overlay\",\"size\":10,\"solidity\":0.2}},\"type\":\"barpolar\"}],\"pie\":[{\"automargin\":true,\"type\":\"pie\"}]},\"layout\":{\"autotypenumbers\":\"strict\",\"colorway\":[\"#636efa\",\"#EF553B\",\"#00cc96\",\"#ab63fa\",\"#FFA15A\",\"#19d3f3\",\"#FF6692\",\"#B6E880\",\"#FF97FF\",\"#FECB52\"],\"font\":{\"color\":\"#2a3f5f\"},\"hovermode\":\"closest\",\"hoverlabel\":{\"align\":\"left\"},\"paper_bgcolor\":\"white\",\"plot_bgcolor\":\"#E5ECF6\",\"polar\":{\"bgcolor\":\"#E5ECF6\",\"angularaxis\":{\"gridcolor\":\"white\",\"linecolor\":\"white\",\"ticks\":\"\"},\"radialaxis\":{\"gridcolor\":\"white\",\"linecolor\":\"white\",\"ticks\":\"\"}},\"ternary\":{\"bgcolor\":\"#E5ECF6\",\"aaxis\":{\"gridcolor\":\"white\",\"linecolor\":\"white\",\"ticks\":\"\"},\"baxis\":{\"gridcolor\":\"white\",\"linecolor\":\"white\",\"ticks\":\"\"},\"caxis\":{\"gridcolor\":\"white\",\"linecolor\":\"white\",\"ticks\":\"\"}},\"coloraxis\":{\"colorbar\":{\"outlinewidth\":0,\"ticks\":\"\"}},\"colorscale\":{\"sequential\":[[0.0,\"#0d0887\"],[0.1111111111111111,\"#46039f\"],[0.2222222222222222,\"#7201a8\"],[0.3333333333333333,\"#9c179e\"],[0.4444444444444444,\"#bd3786\"],[0.5555555555555556,\"#d8576b\"],[0.6666666666666666,\"#ed7953\"],[0.7777777777777778,\"#fb9f3a\"],[0.8888888888888888,\"#fdca26\"],[1.0,\"#f0f921\"]],\"sequentialminus\":[[0.0,\"#0d0887\"],[0.1111111111111111,\"#46039f\"],[0.2222222222222222,\"#7201a8\"],[0.3333333333333333,\"#9c179e\"],[0.4444444444444444,\"#bd3786\"],[0.5555555555555556,\"#d8576b\"],[0.6666666666666666,\"#ed7953\"],[0.7777777777777778,\"#fb9f3a\"],[0.8888888888888888,\"#fdca26\"],[1.0,\"#f0f921\"]],\"diverging\":[[0,\"#8e0152\"],[0.1,\"#c51b7d\"],[0.2,\"#de77ae\"],[0.3,\"#f1b6da\"],[0.4,\"#fde0ef\"],[0.5,\"#f7f7f7\"],[0.6,\"#e6f5d0\"],[0.7,\"#b8e186\"],[0.8,\"#7fbc41\"],[0.9,\"#4d9221\"],[1,\"#276419\"]]},\"xaxis\":{\"gridcolor\":\"white\",\"linecolor\":\"white\",\"ticks\":\"\",\"title\":{\"standoff\":15},\"zerolinecolor\":\"white\",\"automargin\":true,\"zerolinewidth\":2},\"yaxis\":{\"gridcolor\":\"white\",\"linecolor\":\"white\",\"ticks\":\"\",\"title\":{\"standoff\":15},\"zerolinecolor\":\"white\",\"automargin\":true,\"zerolinewidth\":2},\"scene\":{\"xaxis\":{\"backgroundcolor\":\"#E5ECF6\",\"gridcolor\":\"white\",\"linecolor\":\"white\",\"showbackground\":true,\"ticks\":\"\",\"zerolinecolor\":\"white\",\"gridwidth\":2},\"yaxis\":{\"backgroundcolor\":\"#E5ECF6\",\"gridcolor\":\"white\",\"linecolor\":\"white\",\"showbackground\":true,\"ticks\":\"\",\"zerolinecolor\":\"white\",\"gridwidth\":2},\"zaxis\":{\"backgroundcolor\":\"#E5ECF6\",\"gridcolor\":\"white\",\"linecolor\":\"white\",\"showbackground\":true,\"ticks\":\"\",\"zerolinecolor\":\"white\",\"gridwidth\":2}},\"shapedefaults\":{\"line\":{\"color\":\"#2a3f5f\"}},\"annotationdefaults\":{\"arrowcolor\":\"#2a3f5f\",\"arrowhead\":0,\"arrowwidth\":1},\"geo\":{\"bgcolor\":\"white\",\"landcolor\":\"#E5ECF6\",\"subunitcolor\":\"white\",\"showland\":true,\"showlakes\":true,\"lakecolor\":\"white\"},\"title\":{\"x\":0.05},\"mapbox\":{\"style\":\"light\"}}},\"geo\":{\"domain\":{\"x\":[0.0,1.0],\"y\":[0.0,1.0]},\"center\":{},\"projection\":{\"type\":\"equirectangular\"},\"showframe\":false,\"showcoastlines\":true},\"coloraxis\":{\"colorbar\":{\"title\":{\"text\":\"Cases - cumulative total per 100000 population\"}},\"colorscale\":[[0.0,\"#440154\"],[0.1111111111111111,\"#482878\"],[0.2222222222222222,\"#3e4989\"],[0.3333333333333333,\"#31688e\"],[0.4444444444444444,\"#26828e\"],[0.5555555555555556,\"#1f9e89\"],[0.6666666666666666,\"#35b779\"],[0.7777777777777778,\"#6ece58\"],[0.8888888888888888,\"#b5de2b\"],[1.0,\"#fde725\"]]},\"legend\":{\"tracegroupgap\":0},\"title\":{\"text\":\"COVID-19 Cases per 100,000 Population by Country\",\"x\":0.5},\"width\":1000,\"height\":600},                        {\"responsive\": true}                    ).then(function(){\n",
       "                            \n",
       "var gd = document.getElementById('5af2566e-4c9c-49d9-a946-d77203305c9c');\n",
       "var x = new MutationObserver(function (mutations, observer) {{\n",
       "        var display = window.getComputedStyle(gd).display;\n",
       "        if (!display || display === 'none') {{\n",
       "            console.log([gd, 'removed!']);\n",
       "            Plotly.purge(gd);\n",
       "            observer.disconnect();\n",
       "        }}\n",
       "}});\n",
       "\n",
       "// Listen for the removal of the full notebook cells\n",
       "var notebookContainer = gd.closest('#notebook-container');\n",
       "if (notebookContainer) {{\n",
       "    x.observe(notebookContainer, {childList: true});\n",
       "}}\n",
       "\n",
       "// Listen for the clearing of the current output cell\n",
       "var outputEl = gd.closest('.output');\n",
       "if (outputEl) {{\n",
       "    x.observe(outputEl, {childList: true});\n",
       "}}\n",
       "\n",
       "                        })                };                });            </script>        </div>"
      ]
     },
     "metadata": {},
     "output_type": "display_data"
    }
   ],
   "source": [
    "import pandas as pd\n",
    "import plotly.express as px\n",
    "\n",
    "# Read the CSV file\n",
    "df = pd.read_csv('WHO-COVID-19-global-table-data.csv')\n",
    "\n",
    "# Clean country names and create figure\n",
    "fig = px.choropleth(\n",
    "    df,\n",
    "    locations=\"Name\",  # Country names\n",
    "    locationmode=\"country names\",\n",
    "    color=\"Cases - cumulative total per 100000 population\",\n",
    "    hover_name=\"Name\",\n",
    "    hover_data=[\"Cases - cumulative total\", \"Deaths - cumulative total\"],\n",
    "    title=\"COVID-19 Cases per 100,000 Population by Country\",\n",
    "    color_continuous_scale=\"Viridis\",\n",
    ")\n",
    "\n",
    "# Update layout\n",
    "fig.update_layout(\n",
    "    title_x=0.5,\n",
    "    geo=dict(showframe=False, showcoastlines=True, projection_type='equirectangular'),\n",
    "    width=1000,\n",
    "    height=600\n",
    ")\n",
    "\n",
    "# Save the plot as HTML file\n",
    "fig.write_html(\"covid_map.html\")\n",
    "\n",
    "# Show the plot\n",
    "fig.show()"
   ]
  }
 ],
 "metadata": {
  "kernelspec": {
   "display_name": "anaconda-ai-2024.04-py310",
   "language": "python",
   "name": "conda-env-anaconda-ai-2024.04-py310-py"
  },
  "language_info": {
   "codemirror_mode": {
    "name": "ipython",
    "version": 3
   },
   "file_extension": ".py",
   "mimetype": "text/x-python",
   "name": "python",
   "nbconvert_exporter": "python",
   "pygments_lexer": "ipython3",
   "version": "3.10.13"
  }
 },
 "nbformat": 4,
 "nbformat_minor": 5
}
